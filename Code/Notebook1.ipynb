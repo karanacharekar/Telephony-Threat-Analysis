{
 "cells": [
  {
   "cell_type": "code",
   "execution_count": 3,
   "metadata": {
    "collapsed": true
   },
   "outputs": [],
   "source": [
    "import pandas as pd\n",
    "import numpy as np\n",
    "%matplotlib inline"
   ]
  },
  {
   "cell_type": "code",
   "execution_count": 4,
   "metadata": {
    "collapsed": false
   },
   "outputs": [
    {
     "data": {
      "text/plain": [
       "[b'Ticket ID,Ticket Created,Date of Issue,Time of Issue,Form,Method,Issue,Caller ID Number,Type of Call or Messge,Advertiser Business Number,City,State,Zip,Lat/Long\\r\\n',\n",
       " b'1000296,05/25/2016 11:15:29 AM +0000,5/1/2016,1:00 PM,Phone,Internet (VOIP),Robocalls,866-410-0458,Autodialed Live Voice Call,,Plantation,FL,33324,\"FL 33324\\n',\n",
       " b'(26.11294, -80.27429)\"\\r\\n',\n",
       " b'1000319,05/25/2016 12:51:35 PM +0000,3/7/2016,12:00 PM,Phone,Wired,Telemarketing (including do not call and spoofing),619-840-7262,Live Voice,619-840-7262,San Marcos,CA,92078,\"CA 92078\\n',\n",
       " b'(33.122635, -117.190612)\"\\r\\n',\n",
       " b'1000322,05/25/2016 12:56:54 PM +0000,5/24/2016,8:08 PM,Phone,Wireless (cell phone/other mobile device),Telemarketing (including do not call and spoofing),626-691-9090,Live Voice,626-691-9090,Wyckoff,NJ,7481,\"NJ 07481\\n',\n",
       " b'(40.998076, -74.167269)\"\\r\\n',\n",
       " b'1000323,05/25/2016 01:00:22 PM +0000,3/7/2016,,Phone,Wired,Telemarketing (including do not call and spoofing),877-218-8361,Abandoned Calls,,Hopkington,MA,1748,\"MA 01748\\n',\n",
       " b'(42.224925, -71.537489)\"\\r\\n',\n",
       " b'1000326,05/25/2016 01:02:31 PM +0000,5/25/2016,7:24 PM,Phone,Internet (VOIP),Telemarketing (including do not call and spoofing),877-705-6767,Abandoned Calls,,Aurora,IL,60504,\"IL 60504-8149\\n']"
      ]
     },
     "execution_count": 4,
     "metadata": {},
     "output_type": "execute_result"
    }
   ],
   "source": [
    "open('CCD.csv','rb').readlines()[:10]"
   ]
  },
  {
   "cell_type": "code",
   "execution_count": 5,
   "metadata": {
    "collapsed": false
   },
   "outputs": [],
   "source": [
    "fcc = pd.read_csv('CCD.csv')"
   ]
  },
  {
   "cell_type": "code",
   "execution_count": 6,
   "metadata": {
    "collapsed": false
   },
   "outputs": [],
   "source": [
    "fcc1 = fcc.set_index('Ticket ID')"
   ]
  },
  {
   "cell_type": "code",
   "execution_count": 7,
   "metadata": {
    "collapsed": false
   },
   "outputs": [
    {
     "data": {
      "text/html": [
       "<div>\n",
       "<table border=\"1\" class=\"dataframe\">\n",
       "  <thead>\n",
       "    <tr style=\"text-align: right;\">\n",
       "      <th></th>\n",
       "      <th>Ticket Created</th>\n",
       "      <th>Date of Issue</th>\n",
       "      <th>Time of Issue</th>\n",
       "      <th>Form</th>\n",
       "      <th>Method</th>\n",
       "      <th>Issue</th>\n",
       "      <th>Caller ID Number</th>\n",
       "      <th>Type of Call or Messge</th>\n",
       "      <th>Advertiser Business Number</th>\n",
       "      <th>City</th>\n",
       "      <th>State</th>\n",
       "      <th>Zip</th>\n",
       "      <th>Lat/Long</th>\n",
       "    </tr>\n",
       "    <tr>\n",
       "      <th>Ticket ID</th>\n",
       "      <th></th>\n",
       "      <th></th>\n",
       "      <th></th>\n",
       "      <th></th>\n",
       "      <th></th>\n",
       "      <th></th>\n",
       "      <th></th>\n",
       "      <th></th>\n",
       "      <th></th>\n",
       "      <th></th>\n",
       "      <th></th>\n",
       "      <th></th>\n",
       "      <th></th>\n",
       "    </tr>\n",
       "  </thead>\n",
       "  <tbody>\n",
       "    <tr>\n",
       "      <th>1000296</th>\n",
       "      <td>05/25/2016 11:15:29 AM +0000</td>\n",
       "      <td>5/1/2016</td>\n",
       "      <td>1:00 PM</td>\n",
       "      <td>Phone</td>\n",
       "      <td>Internet (VOIP)</td>\n",
       "      <td>Robocalls</td>\n",
       "      <td>866-410-0458</td>\n",
       "      <td>Autodialed Live Voice Call</td>\n",
       "      <td>NaN</td>\n",
       "      <td>Plantation</td>\n",
       "      <td>FL</td>\n",
       "      <td>33324</td>\n",
       "      <td>FL 33324\\n(26.11294, -80.27429)</td>\n",
       "    </tr>\n",
       "    <tr>\n",
       "      <th>1000319</th>\n",
       "      <td>05/25/2016 12:51:35 PM +0000</td>\n",
       "      <td>3/7/2016</td>\n",
       "      <td>12:00 PM</td>\n",
       "      <td>Phone</td>\n",
       "      <td>Wired</td>\n",
       "      <td>Telemarketing (including do not call and spoof...</td>\n",
       "      <td>619-840-7262</td>\n",
       "      <td>Live Voice</td>\n",
       "      <td>619-840-7262</td>\n",
       "      <td>San Marcos</td>\n",
       "      <td>CA</td>\n",
       "      <td>92078</td>\n",
       "      <td>CA 92078\\n(33.122635, -117.190612)</td>\n",
       "    </tr>\n",
       "    <tr>\n",
       "      <th>1000322</th>\n",
       "      <td>05/25/2016 12:56:54 PM +0000</td>\n",
       "      <td>5/24/2016</td>\n",
       "      <td>8:08 PM</td>\n",
       "      <td>Phone</td>\n",
       "      <td>Wireless (cell phone/other mobile device)</td>\n",
       "      <td>Telemarketing (including do not call and spoof...</td>\n",
       "      <td>626-691-9090</td>\n",
       "      <td>Live Voice</td>\n",
       "      <td>626-691-9090</td>\n",
       "      <td>Wyckoff</td>\n",
       "      <td>NJ</td>\n",
       "      <td>7481</td>\n",
       "      <td>NJ 07481\\n(40.998076, -74.167269)</td>\n",
       "    </tr>\n",
       "    <tr>\n",
       "      <th>1000323</th>\n",
       "      <td>05/25/2016 01:00:22 PM +0000</td>\n",
       "      <td>3/7/2016</td>\n",
       "      <td>NaN</td>\n",
       "      <td>Phone</td>\n",
       "      <td>Wired</td>\n",
       "      <td>Telemarketing (including do not call and spoof...</td>\n",
       "      <td>877-218-8361</td>\n",
       "      <td>Abandoned Calls</td>\n",
       "      <td>NaN</td>\n",
       "      <td>Hopkington</td>\n",
       "      <td>MA</td>\n",
       "      <td>1748</td>\n",
       "      <td>MA 01748\\n(42.224925, -71.537489)</td>\n",
       "    </tr>\n",
       "    <tr>\n",
       "      <th>1000326</th>\n",
       "      <td>05/25/2016 01:02:31 PM +0000</td>\n",
       "      <td>5/25/2016</td>\n",
       "      <td>7:24 PM</td>\n",
       "      <td>Phone</td>\n",
       "      <td>Internet (VOIP)</td>\n",
       "      <td>Telemarketing (including do not call and spoof...</td>\n",
       "      <td>877-705-6767</td>\n",
       "      <td>Abandoned Calls</td>\n",
       "      <td>NaN</td>\n",
       "      <td>Aurora</td>\n",
       "      <td>IL</td>\n",
       "      <td>60504</td>\n",
       "      <td>IL 60504-8149\\n(41.771365, -88.226673)</td>\n",
       "    </tr>\n",
       "  </tbody>\n",
       "</table>\n",
       "</div>"
      ],
      "text/plain": [
       "                         Ticket Created Date of Issue Time of Issue   Form  \\\n",
       "Ticket ID                                                                    \n",
       "1000296    05/25/2016 11:15:29 AM +0000      5/1/2016       1:00 PM  Phone   \n",
       "1000319    05/25/2016 12:51:35 PM +0000      3/7/2016      12:00 PM  Phone   \n",
       "1000322    05/25/2016 12:56:54 PM +0000     5/24/2016       8:08 PM  Phone   \n",
       "1000323    05/25/2016 01:00:22 PM +0000      3/7/2016           NaN  Phone   \n",
       "1000326    05/25/2016 01:02:31 PM +0000     5/25/2016       7:24 PM  Phone   \n",
       "\n",
       "                                              Method  \\\n",
       "Ticket ID                                              \n",
       "1000296                              Internet (VOIP)   \n",
       "1000319                                        Wired   \n",
       "1000322    Wireless (cell phone/other mobile device)   \n",
       "1000323                                        Wired   \n",
       "1000326                              Internet (VOIP)   \n",
       "\n",
       "                                                       Issue Caller ID Number  \\\n",
       "Ticket ID                                                                       \n",
       "1000296                                            Robocalls     866-410-0458   \n",
       "1000319    Telemarketing (including do not call and spoof...     619-840-7262   \n",
       "1000322    Telemarketing (including do not call and spoof...     626-691-9090   \n",
       "1000323    Telemarketing (including do not call and spoof...     877-218-8361   \n",
       "1000326    Telemarketing (including do not call and spoof...     877-705-6767   \n",
       "\n",
       "               Type of Call or Messge Advertiser Business Number        City  \\\n",
       "Ticket ID                                                                      \n",
       "1000296    Autodialed Live Voice Call                        NaN  Plantation   \n",
       "1000319                    Live Voice               619-840-7262  San Marcos   \n",
       "1000322                    Live Voice               626-691-9090     Wyckoff   \n",
       "1000323               Abandoned Calls                        NaN  Hopkington   \n",
       "1000326               Abandoned Calls                        NaN      Aurora   \n",
       "\n",
       "          State    Zip                                Lat/Long  \n",
       "Ticket ID                                                       \n",
       "1000296      FL  33324         FL 33324\\n(26.11294, -80.27429)  \n",
       "1000319      CA  92078      CA 92078\\n(33.122635, -117.190612)  \n",
       "1000322      NJ   7481       NJ 07481\\n(40.998076, -74.167269)  \n",
       "1000323      MA   1748       MA 01748\\n(42.224925, -71.537489)  \n",
       "1000326      IL  60504  IL 60504-8149\\n(41.771365, -88.226673)  "
      ]
     },
     "execution_count": 7,
     "metadata": {},
     "output_type": "execute_result"
    }
   ],
   "source": [
    "fcc1.head()"
   ]
  },
  {
   "cell_type": "code",
   "execution_count": 8,
   "metadata": {
    "collapsed": false
   },
   "outputs": [],
   "source": [
    "fcc2 = fcc1.dropna()"
   ]
  },
  {
   "cell_type": "code",
   "execution_count": 9,
   "metadata": {
    "collapsed": false
   },
   "outputs": [
    {
     "data": {
      "text/plain": [
       "Ticket Created                42731\n",
       "Date of Issue                 42731\n",
       "Time of Issue                 42731\n",
       "Form                          42731\n",
       "Method                        42731\n",
       "Issue                         42731\n",
       "Caller ID Number              42731\n",
       "Type of Call or Messge        42731\n",
       "Advertiser Business Number    42731\n",
       "City                          42731\n",
       "State                         42731\n",
       "Zip                           42731\n",
       "Lat/Long                      42731\n",
       "dtype: int64"
      ]
     },
     "execution_count": 9,
     "metadata": {},
     "output_type": "execute_result"
    }
   ],
   "source": [
    "fcc2.count()"
   ]
  },
  {
   "cell_type": "code",
   "execution_count": 10,
   "metadata": {
    "collapsed": false
   },
   "outputs": [
    {
     "data": {
      "text/html": [
       "<div>\n",
       "<table border=\"1\" class=\"dataframe\">\n",
       "  <thead>\n",
       "    <tr style=\"text-align: right;\">\n",
       "      <th></th>\n",
       "      <th>Ticket Created</th>\n",
       "      <th>Date of Issue</th>\n",
       "      <th>Time of Issue</th>\n",
       "      <th>Form</th>\n",
       "      <th>Method</th>\n",
       "      <th>Issue</th>\n",
       "      <th>Caller ID Number</th>\n",
       "      <th>Type of Call or Messge</th>\n",
       "      <th>Advertiser Business Number</th>\n",
       "      <th>City</th>\n",
       "      <th>State</th>\n",
       "      <th>Zip</th>\n",
       "      <th>Lat/Long</th>\n",
       "    </tr>\n",
       "  </thead>\n",
       "  <tbody>\n",
       "    <tr>\n",
       "      <th>count</th>\n",
       "      <td>42731</td>\n",
       "      <td>42731</td>\n",
       "      <td>42731</td>\n",
       "      <td>42731</td>\n",
       "      <td>42731</td>\n",
       "      <td>42731</td>\n",
       "      <td>42731</td>\n",
       "      <td>42731</td>\n",
       "      <td>42731</td>\n",
       "      <td>42731</td>\n",
       "      <td>42731</td>\n",
       "      <td>42731</td>\n",
       "      <td>42731</td>\n",
       "    </tr>\n",
       "    <tr>\n",
       "      <th>unique</th>\n",
       "      <td>42689</td>\n",
       "      <td>917</td>\n",
       "      <td>3588</td>\n",
       "      <td>1</td>\n",
       "      <td>3</td>\n",
       "      <td>3</td>\n",
       "      <td>28283</td>\n",
       "      <td>6</td>\n",
       "      <td>27895</td>\n",
       "      <td>6744</td>\n",
       "      <td>54</td>\n",
       "      <td>11976</td>\n",
       "      <td>13613</td>\n",
       "    </tr>\n",
       "    <tr>\n",
       "      <th>top</th>\n",
       "      <td>08/18/2016 05:44:58 PM +0000</td>\n",
       "      <td>9/8/2016</td>\n",
       "      <td>1:00 PM</td>\n",
       "      <td>Phone</td>\n",
       "      <td>Wireless (cell phone/other mobile device)</td>\n",
       "      <td>Telemarketing (including do not call and spoof...</td>\n",
       "      <td>213-141-5163</td>\n",
       "      <td>Prerecorded Voice</td>\n",
       "      <td>000-000-0000</td>\n",
       "      <td>New York</td>\n",
       "      <td>CA</td>\n",
       "      <td>20854</td>\n",
       "      <td>MD 20854\\n(39.038266, -77.203413)</td>\n",
       "    </tr>\n",
       "    <tr>\n",
       "      <th>freq</th>\n",
       "      <td>2</td>\n",
       "      <td>164</td>\n",
       "      <td>697</td>\n",
       "      <td>42731</td>\n",
       "      <td>20764</td>\n",
       "      <td>25417</td>\n",
       "      <td>144</td>\n",
       "      <td>25385</td>\n",
       "      <td>89</td>\n",
       "      <td>290</td>\n",
       "      <td>5798</td>\n",
       "      <td>181</td>\n",
       "      <td>181</td>\n",
       "    </tr>\n",
       "  </tbody>\n",
       "</table>\n",
       "</div>"
      ],
      "text/plain": [
       "                      Ticket Created Date of Issue Time of Issue   Form  \\\n",
       "count                          42731         42731         42731  42731   \n",
       "unique                         42689           917          3588      1   \n",
       "top     08/18/2016 05:44:58 PM +0000      9/8/2016       1:00 PM  Phone   \n",
       "freq                               2           164           697  42731   \n",
       "\n",
       "                                           Method  \\\n",
       "count                                       42731   \n",
       "unique                                          3   \n",
       "top     Wireless (cell phone/other mobile device)   \n",
       "freq                                        20764   \n",
       "\n",
       "                                                    Issue Caller ID Number  \\\n",
       "count                                               42731            42731   \n",
       "unique                                                  3            28283   \n",
       "top     Telemarketing (including do not call and spoof...     213-141-5163   \n",
       "freq                                                25417              144   \n",
       "\n",
       "       Type of Call or Messge Advertiser Business Number      City  State  \\\n",
       "count                   42731                      42731     42731  42731   \n",
       "unique                      6                      27895      6744     54   \n",
       "top         Prerecorded Voice               000-000-0000  New York     CA   \n",
       "freq                    25385                         89       290   5798   \n",
       "\n",
       "          Zip                           Lat/Long  \n",
       "count   42731                              42731  \n",
       "unique  11976                              13613  \n",
       "top     20854  MD 20854\\n(39.038266, -77.203413)  \n",
       "freq      181                                181  "
      ]
     },
     "execution_count": 10,
     "metadata": {},
     "output_type": "execute_result"
    }
   ],
   "source": [
    "fcc2.describe()"
   ]
  },
  {
   "cell_type": "code",
   "execution_count": 11,
   "metadata": {
    "collapsed": false
   },
   "outputs": [],
   "source": [
    "fcc3 = fcc2[['Caller ID Number','State']]"
   ]
  },
  {
   "cell_type": "code",
   "execution_count": 12,
   "metadata": {
    "collapsed": true
   },
   "outputs": [],
   "source": [
    "import matplotlib.pyplot as mp\n",
    "import seaborn"
   ]
  },
  {
   "cell_type": "code",
   "execution_count": 13,
   "metadata": {
    "collapsed": false
   },
   "outputs": [],
   "source": [
    "recidivating = fcc3['Caller ID Number'].value_counts().head(25)"
   ]
  },
  {
   "cell_type": "code",
   "execution_count": 14,
   "metadata": {
    "collapsed": false
   },
   "outputs": [],
   "source": [
    "reci = recidivating.to_frame()"
   ]
  },
  {
   "cell_type": "code",
   "execution_count": 15,
   "metadata": {
    "collapsed": false
   },
   "outputs": [],
   "source": [
    "reci = reci.reset_index()"
   ]
  },
  {
   "cell_type": "code",
   "execution_count": 16,
   "metadata": {
    "collapsed": false
   },
   "outputs": [],
   "source": [
    "reci.columns = ['number','count']"
   ]
  },
  {
   "cell_type": "code",
   "execution_count": 17,
   "metadata": {
    "collapsed": false
   },
   "outputs": [
    {
     "data": {
      "text/html": [
       "<div>\n",
       "<table border=\"1\" class=\"dataframe\">\n",
       "  <thead>\n",
       "    <tr style=\"text-align: right;\">\n",
       "      <th></th>\n",
       "      <th>number</th>\n",
       "      <th>count</th>\n",
       "    </tr>\n",
       "  </thead>\n",
       "  <tbody>\n",
       "    <tr>\n",
       "      <th>0</th>\n",
       "      <td>213-141-5163</td>\n",
       "      <td>144</td>\n",
       "    </tr>\n",
       "    <tr>\n",
       "      <th>1</th>\n",
       "      <td>900-999-9999</td>\n",
       "      <td>99</td>\n",
       "    </tr>\n",
       "    <tr>\n",
       "      <th>2</th>\n",
       "      <td>000-000-0000</td>\n",
       "      <td>63</td>\n",
       "    </tr>\n",
       "    <tr>\n",
       "      <th>3</th>\n",
       "      <td>304-263-5785</td>\n",
       "      <td>45</td>\n",
       "    </tr>\n",
       "    <tr>\n",
       "      <th>4</th>\n",
       "      <td>206-708-2849</td>\n",
       "      <td>43</td>\n",
       "    </tr>\n",
       "    <tr>\n",
       "      <th>5</th>\n",
       "      <td>855-893-9445</td>\n",
       "      <td>36</td>\n",
       "    </tr>\n",
       "    <tr>\n",
       "      <th>6</th>\n",
       "      <td>202-864-1122</td>\n",
       "      <td>36</td>\n",
       "    </tr>\n",
       "    <tr>\n",
       "      <th>7</th>\n",
       "      <td>248-215-0437</td>\n",
       "      <td>36</td>\n",
       "    </tr>\n",
       "    <tr>\n",
       "      <th>8</th>\n",
       "      <td>202-864-1183</td>\n",
       "      <td>34</td>\n",
       "    </tr>\n",
       "    <tr>\n",
       "      <th>9</th>\n",
       "      <td>877-587-5727</td>\n",
       "      <td>34</td>\n",
       "    </tr>\n",
       "    <tr>\n",
       "      <th>10</th>\n",
       "      <td>646-568-1992</td>\n",
       "      <td>32</td>\n",
       "    </tr>\n",
       "    <tr>\n",
       "      <th>11</th>\n",
       "      <td>512-532-8633</td>\n",
       "      <td>32</td>\n",
       "    </tr>\n",
       "    <tr>\n",
       "      <th>12</th>\n",
       "      <td>786-540-0255</td>\n",
       "      <td>31</td>\n",
       "    </tr>\n",
       "    <tr>\n",
       "      <th>13</th>\n",
       "      <td>281-702-8593</td>\n",
       "      <td>31</td>\n",
       "    </tr>\n",
       "    <tr>\n",
       "      <th>14</th>\n",
       "      <td>802-881-0607</td>\n",
       "      <td>30</td>\n",
       "    </tr>\n",
       "    <tr>\n",
       "      <th>15</th>\n",
       "      <td>213-257-5233</td>\n",
       "      <td>30</td>\n",
       "    </tr>\n",
       "    <tr>\n",
       "      <th>16</th>\n",
       "      <td>319-493-7775</td>\n",
       "      <td>30</td>\n",
       "    </tr>\n",
       "    <tr>\n",
       "      <th>17</th>\n",
       "      <td>360-566-2212</td>\n",
       "      <td>29</td>\n",
       "    </tr>\n",
       "    <tr>\n",
       "      <th>18</th>\n",
       "      <td>620-750-2182</td>\n",
       "      <td>28</td>\n",
       "    </tr>\n",
       "    <tr>\n",
       "      <th>19</th>\n",
       "      <td>844-226-8637</td>\n",
       "      <td>27</td>\n",
       "    </tr>\n",
       "    <tr>\n",
       "      <th>20</th>\n",
       "      <td>800-829-1040</td>\n",
       "      <td>26</td>\n",
       "    </tr>\n",
       "    <tr>\n",
       "      <th>21</th>\n",
       "      <td>800-520-4488</td>\n",
       "      <td>26</td>\n",
       "    </tr>\n",
       "    <tr>\n",
       "      <th>22</th>\n",
       "      <td>202-470-0729</td>\n",
       "      <td>26</td>\n",
       "    </tr>\n",
       "    <tr>\n",
       "      <th>23</th>\n",
       "      <td>801-823-3446</td>\n",
       "      <td>25</td>\n",
       "    </tr>\n",
       "    <tr>\n",
       "      <th>24</th>\n",
       "      <td>385-232-7228</td>\n",
       "      <td>24</td>\n",
       "    </tr>\n",
       "  </tbody>\n",
       "</table>\n",
       "</div>"
      ],
      "text/plain": [
       "          number  count\n",
       "0   213-141-5163    144\n",
       "1   900-999-9999     99\n",
       "2   000-000-0000     63\n",
       "3   304-263-5785     45\n",
       "4   206-708-2849     43\n",
       "5   855-893-9445     36\n",
       "6   202-864-1122     36\n",
       "7   248-215-0437     36\n",
       "8   202-864-1183     34\n",
       "9   877-587-5727     34\n",
       "10  646-568-1992     32\n",
       "11  512-532-8633     32\n",
       "12  786-540-0255     31\n",
       "13  281-702-8593     31\n",
       "14  802-881-0607     30\n",
       "15  213-257-5233     30\n",
       "16  319-493-7775     30\n",
       "17  360-566-2212     29\n",
       "18  620-750-2182     28\n",
       "19  844-226-8637     27\n",
       "20  800-829-1040     26\n",
       "21  800-520-4488     26\n",
       "22  202-470-0729     26\n",
       "23  801-823-3446     25\n",
       "24  385-232-7228     24"
      ]
     },
     "execution_count": 17,
     "metadata": {},
     "output_type": "execute_result"
    }
   ],
   "source": [
    "reci"
   ]
  },
  {
   "cell_type": "code",
   "execution_count": 25,
   "metadata": {
    "collapsed": false
   },
   "outputs": [
    {
     "data": {
      "image/png": "[encoded data removed]",
      "text/plain": [
       "<matplotlib.figure.Figure at 0x265c34f9668>"
      ]
     },
     "metadata": {},
     "output_type": "display_data"
    }
   ],
   "source": [
    "import pylab\n",
    "\n",
    "plot = reci.plot.bar(x='number',color='r',title='Recidivating Numbers')\n",
    "fig = plot.get_figure()\n",
    "plot.set_xlabel('No. of reported calls',color='G')\n",
    "plot.set_ylabel('Reported Spam Phone Numbers', color='G')\n",
    "fig.set_size_inches(18.5, 15.5)"
   ]
  },
  {
   "cell_type": "code",
   "execution_count": 27,
   "metadata": {
    "collapsed": false
   },
   "outputs": [],
   "source": [
    "fcc4 = fcc1['Method'].value_counts()"
   ]
  },
  {
   "cell_type": "code",
   "execution_count": 28,
   "metadata": {
    "collapsed": false
   },
   "outputs": [],
   "source": [
    "fcc4 = fcc4.to_frame()"
   ]
  },
  {
   "cell_type": "code",
   "execution_count": 29,
   "metadata": {
    "collapsed": false
   },
   "outputs": [],
   "source": [
    "fcc4 = fcc4.reset_index() "
   ]
  },
  {
   "cell_type": "code",
   "execution_count": 30,
   "metadata": {
    "collapsed": false
   },
   "outputs": [],
   "source": [
    "fcc4.columns = ['method','count']"
   ]
  },
  {
   "cell_type": "code",
   "execution_count": 31,
   "metadata": {
    "collapsed": false
   },
   "outputs": [
    {
     "data": {
      "text/html": [
       "<div>\n",
       "<table border=\"1\" class=\"dataframe\">\n",
       "  <thead>\n",
       "    <tr style=\"text-align: right;\">\n",
       "      <th></th>\n",
       "      <th>method</th>\n",
       "      <th>count</th>\n",
       "    </tr>\n",
       "  </thead>\n",
       "  <tbody>\n",
       "    <tr>\n",
       "      <th>0</th>\n",
       "      <td>Wireless (cell phone/other mobile device)</td>\n",
       "      <td>237040</td>\n",
       "    </tr>\n",
       "    <tr>\n",
       "      <th>1</th>\n",
       "      <td>Wired</td>\n",
       "      <td>148878</td>\n",
       "    </tr>\n",
       "    <tr>\n",
       "      <th>2</th>\n",
       "      <td>Cable</td>\n",
       "      <td>98600</td>\n",
       "    </tr>\n",
       "    <tr>\n",
       "      <th>3</th>\n",
       "      <td>Wireless</td>\n",
       "      <td>35517</td>\n",
       "    </tr>\n",
       "    <tr>\n",
       "      <th>4</th>\n",
       "      <td>Internet (VOIP)</td>\n",
       "      <td>34710</td>\n",
       "    </tr>\n",
       "    <tr>\n",
       "      <th>5</th>\n",
       "      <td>DSL</td>\n",
       "      <td>19405</td>\n",
       "    </tr>\n",
       "    <tr>\n",
       "      <th>6</th>\n",
       "      <td>Broadcast</td>\n",
       "      <td>19368</td>\n",
       "    </tr>\n",
       "    <tr>\n",
       "      <th>7</th>\n",
       "      <td>Satellite</td>\n",
       "      <td>13808</td>\n",
       "    </tr>\n",
       "    <tr>\n",
       "      <th>8</th>\n",
       "      <td>Fiber</td>\n",
       "      <td>11753</td>\n",
       "    </tr>\n",
       "    <tr>\n",
       "      <th>9</th>\n",
       "      <td>Amateur Radio</td>\n",
       "      <td>1412</td>\n",
       "    </tr>\n",
       "  </tbody>\n",
       "</table>\n",
       "</div>"
      ],
      "text/plain": [
       "                                      method   count\n",
       "0  Wireless (cell phone/other mobile device)  237040\n",
       "1                                      Wired  148878\n",
       "2                                      Cable   98600\n",
       "3                                   Wireless   35517\n",
       "4                            Internet (VOIP)   34710\n",
       "5                                        DSL   19405\n",
       "6                                  Broadcast   19368\n",
       "7                                  Satellite   13808\n",
       "8                                      Fiber   11753\n",
       "9                              Amateur Radio    1412"
      ]
     },
     "execution_count": 31,
     "metadata": {},
     "output_type": "execute_result"
    }
   ],
   "source": [
    "fcc4"
   ]
  },
  {
   "cell_type": "code",
   "execution_count": 33,
   "metadata": {
    "collapsed": false
   },
   "outputs": [
    {
     "data": {
      "image/png": "[encoded data removed]",
      "text/plain": [
       "<matplotlib.figure.Figure at 0x265c34e2668>"
      ]
     },
     "metadata": {},
     "output_type": "display_data"
    }
   ],
   "source": [
    "plot = fcc4.plot.barh('method',color='G',title='Method of Spam')\n",
    "fig = plot.get_figure()\n",
    "plot.set_xlabel('Frequency',color='B')\n",
    "plot.set_ylabel('Methods', color='B')\n",
    "fig.set_size_inches(18.5, 15.5)"
   ]
  }
 ],
 "metadata": {
  "anaconda-cloud": {},
  "kernelspec": {
   "display_name": "Python [Root]",
   "language": "python",
   "name": "Python [Root]"
  },
  "language_info": {
   "codemirror_mode": {
    "name": "ipython",
    "version": 3
   },
   "file_extension": ".py",
   "mimetype": "text/x-python",
   "name": "python",
   "nbconvert_exporter": "python",
   "pygments_lexer": "ipython3",
   "version": "3.5.2"
  }
 },
 "nbformat": 4,
 "nbformat_minor": 0
}
